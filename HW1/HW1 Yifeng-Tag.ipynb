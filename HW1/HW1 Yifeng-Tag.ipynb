{
 "cells": [
  {
   "cell_type": "markdown",
   "metadata": {},
   "source": [
    "# HomeWork 1"
   ]
  },
  {
   "cell_type": "markdown",
   "metadata": {},
   "source": [
    "Name: Yifeng      NetID: yt157  \n",
    "\n",
    "blog url: https://yifeng-t.github.io/  \n",
    "\n",
    "github homework page: https://github.com/Yifeng-T/Biostat823_HomeWork.git\n"
   ]
  },
  {
   "cell_type": "markdown",
   "metadata": {},
   "source": [
    "## Question1, Problem 6-solved by 496,345"
   ]
  },
  {
   "cell_type": "markdown",
   "metadata": {},
   "source": [
    "![p-6.png](https://i.loli.net/2021/09/02/ieLNZdy82nv6zjs.png)"
   ]
  },
  {
   "cell_type": "code",
   "execution_count": 1,
   "metadata": {},
   "outputs": [
    {
     "name": "stdout",
     "output_type": "stream",
     "text": [
      "sum of square is 338350, and square of sum is 25502500, the differennce is 25164150\n"
     ]
    }
   ],
   "source": [
    "import numpy as np\n",
    "\n",
    "\n",
    "def calculate():\n",
    "    \"\"\"calculate the sumsquare and squaresum difference\"\"\"\n",
    "    #BUild the array contains first 100 natural numbers\n",
    "    origin = np.arange(1, 101, dtype = int)\n",
    "    \n",
    "    # sum_sq: contains the sum of the squares\n",
    "    sum_sq = sum(origin**2)\n",
    "\n",
    "    # sq_sum: contains the square of the sums\n",
    "    sq_sum = sum(origin)**2\n",
    "\n",
    "    print(f\"sum of square is {sum_sq}, and square of sum is {sq_sum}, the differennce is {sq_sum-sum_sq}\")\n",
    "    return (sq_sum-sum_sq)\n",
    "\n",
    "\n",
    "if __name__ == '__main__':\n",
    "    calculate()"
   ]
  },
  {
   "cell_type": "markdown",
   "metadata": {},
   "source": [
    "## Question2, Problem 34-solved by 95,108"
   ]
  },
  {
   "cell_type": "markdown",
   "metadata": {},
   "source": [
    "![p-34.png](https://i.loli.net/2021/09/02/Vf23IgFPnYUliwz.png)"
   ]
  },
  {
   "cell_type": "code",
   "execution_count": 4,
   "metadata": {},
   "outputs": [
    {
     "name": "stdout",
     "output_type": "stream",
     "text": [
      "one of the majic number is 145\n",
      "one of the majic number is 40585\n",
      "40730\n"
     ]
    }
   ],
   "source": [
    "import math\n",
    "\n",
    "def sum_CuriousNum():\n",
    "    \"\"\"sum of all numbers which are equal to the sum of the factorial digits\"\"\"\n",
    "    \n",
    "    #we construct a dictionary for the factorial of each possible digit, so we do not need to calculate it in the loop\n",
    "    digit_fac = {0:1, 1:1, 2:2, 3:6, 4:math.factorial(4), 5:math.factorial(5), 6:math.factorial(6), \\\n",
    "        7:math.factorial(7), 8:math.factorial(8), 9:math.factorial(9)}\n",
    "    \n",
    "    # the output variable, storing the sum of all numbers\n",
    "    result = 0\n",
    "    \n",
    "    # by observation, we find the max digits only could be 7.\n",
    "    low_bound = 3\n",
    "    up_bound = math.factorial(9)*7\n",
    "\n",
    "    for i in range(low_bound, up_bound):\n",
    "        item = i\n",
    "        digit_sum = 0 # initialize the sum of all digits of the target number\n",
    "        \n",
    "        # we find the reminder of target number divided by 10 each time to find the digit number.\n",
    "        while item >= 1: \n",
    "            remin = item % 10\n",
    "            digit_sum += digit_fac[remin]\n",
    "            item = item // 10 # get the integer part\n",
    "        if i == digit_sum:\n",
    "            result += i\n",
    "            print(f\"one of the majic number is {i}\")\n",
    "    print(result)\n",
    "    return result\n",
    "\n",
    "if __name__ == '__main__':\n",
    "    sum_CuriousNum()"
   ]
  },
  {
   "cell_type": "markdown",
   "metadata": {},
   "source": [
    "## Question3, Problem 206-solved by 24,162"
   ]
  },
  {
   "cell_type": "markdown",
   "metadata": {},
   "source": [
    "![p-206.png](https://i.loli.net/2021/09/02/YX6UfsjE1H9aC7n.png)"
   ]
  },
  {
   "cell_type": "code",
   "execution_count": 5,
   "metadata": {},
   "outputs": [
    {
     "name": "stdout",
     "output_type": "stream",
     "text": [
      "number is 1389019170 and its square is 1929374254627488900\n"
     ]
    }
   ],
   "source": [
    "#problem 206\n",
    "# the time efficiency of the function is terrible *.*. It requires approximate 3mins to get the output\n",
    "def find_num(l):\n",
    "    \"\"\"find out the unique number\"\"\"\n",
    "    \n",
    "    # variable number is to store the unique number\n",
    "    number = 0\n",
    "    \n",
    "    forma = \"23456789\"\n",
    "    \n",
    "    for j in range(0, len(a)-1):\n",
    "        index = a[j]\n",
    "        \n",
    "        # convert the number to string, easy to find out the speficif digit\n",
    "        s = str(index**2)\n",
    "        less_index = s[2]+s[4]+s[6]+s[8]+s[10]+s[12]+s[14]+s[16]\n",
    "        \n",
    "        if less_index == forma:\n",
    "            number = a[j]\n",
    "    print(f\"number is {number} and its square is {number**2}\")\n",
    "    return number\n",
    "\n",
    "if __name__ == '__main__':\n",
    "    \n",
    "    #based on problem, here is the lower bound and upper bound for searching range:\n",
    "    minn = int(1020304050607080900**0.5)\n",
    "    maxx = int(1929394959697989900**0.5)+1\n",
    "    \n",
    "    # list a is to store the whole group of possible target unique numbers.\n",
    "    a = []\n",
    "    for i in range(minn, maxx+1):\n",
    "        \n",
    "        # convert the number to string\n",
    "        obj = str(i)\n",
    "        if obj[9] == '0':\n",
    "            if obj[8] == '3' or obj[8] == '7':\n",
    "                a.append(i)\n",
    "    find_num(a)"
   ]
  },
  {
   "cell_type": "code",
   "execution_count": null,
   "metadata": {},
   "outputs": [],
   "source": []
  }
 ],
 "metadata": {
  "kernelspec": {
   "display_name": "Python 3",
   "language": "python",
   "name": "python3"
  },
  "language_info": {
   "codemirror_mode": {
    "name": "ipython",
    "version": 3
   },
   "file_extension": ".py",
   "mimetype": "text/x-python",
   "name": "python",
   "nbconvert_exporter": "python",
   "pygments_lexer": "ipython3",
   "version": "3.7.8"
  }
 },
 "nbformat": 4,
 "nbformat_minor": 4
}
